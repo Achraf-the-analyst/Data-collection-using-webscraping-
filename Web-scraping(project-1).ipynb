{
 "cells": [
  {
   "cell_type": "markdown",
   "id": "efed20b2-f5d9-4d45-bbc5-fb7ef6a6c8ea",
   "metadata": {},
   "source": [
    "### Dataset : \"https://en.wikipedia.org/wiki/List_of_largest_companies_in_the_United_States_by_revenue\""
   ]
  },
  {
   "cell_type": "code",
   "execution_count": 2,
   "id": "ff4de892-0a22-4639-a06f-d9b0809cf5c3",
   "metadata": {},
   "outputs": [],
   "source": [
    "from bs4  import BeautifulSoup\n",
    "import requests"
   ]
  },
  {
   "cell_type": "code",
   "execution_count": 3,
   "id": "65f333f9-e81f-49a7-a015-ec4463cadd77",
   "metadata": {},
   "outputs": [],
   "source": [
    "url=(\"https://en.wikipedia.org/wiki/List_of_largest_companies_in_the_United_States_by_revenue\")"
   ]
  },
  {
   "cell_type": "code",
   "execution_count": 4,
   "id": "4631a1e2-f0b9-4ece-afdc-7792f1a097bb",
   "metadata": {},
   "outputs": [],
   "source": [
    "page=requests.get(url)"
   ]
  },
  {
   "cell_type": "code",
   "execution_count": 5,
   "id": "405bc404-10b4-4556-9dfb-8e0d63007400",
   "metadata": {},
   "outputs": [],
   "source": [
    "soup=BeautifulSoup(page.text,\"html\")"
   ]
  },
  {
   "cell_type": "code",
   "execution_count": 15,
   "id": "01b71e6e-66e1-4d19-b2d1-3f4d15db8605",
   "metadata": {},
   "outputs": [],
   "source": [
    "table=soup.find_all(\"table\")[2]"
   ]
  },
  {
   "cell_type": "code",
   "execution_count": 16,
   "id": "8977d140-87a8-4276-8672-f757d385828f",
   "metadata": {},
   "outputs": [
    {
     "name": "stdout",
     "output_type": "stream",
     "text": [
      "<table class=\"wikitable sortable\">\n",
      "<tbody><tr>\n",
      "<th>Rank\n",
      "</th>\n",
      "<th>Name\n",
      "</th>\n",
      "<th>Industry\n",
      "</th>\n",
      "<th>Revenue <br/>(USD billions)\n",
      "</th>\n",
      "<th>Employees\n",
      "</th>\n",
      "<th>Headquarters\n",
      "</th></tr>\n",
      "<tr>\n",
      "<td>1\n",
      "</td>\n",
      "<td><a href=\"/wiki/Cargill\" title=\"Cargill\">Cargill</a>\n",
      "</td>\n",
      "<td>Food industry\n",
      "</td>\n",
      "<td style=\"text-align:center;\">165\n",
      "</td>\n",
      "<td style=\"text-align:center;\">155,000\n",
      "</td>\n",
      "<td><a href=\"/wiki/Minnetonka,_Minnesota\" title=\"Minnetonka, Minnesota\">Minnetonka, Minnesota</a>\n",
      "</td></tr>\n",
      "<tr>\n",
      "<td>2\n",
      "</td>\n",
      "<td><a href=\"/wiki/Koch_Industries\" title=\"Koch Industries\">Koch Industries</a>\n",
      "</td>\n",
      "<td>Conglomerate\n",
      "</td>\n",
      "<td style=\"text-align:center;\">125\n",
      "</td>\n",
      "<td style=\"text-align:center;\">120,000\n",
      "</td>\n",
      "<td><a href=\"/wiki/Wichita,_Kansas\" title=\"Wichita, Kansas\">Wichita, Kansas</a>\n",
      "</td></tr>\n",
      "<tr>\n",
      "<td>3\n",
      "</td>\n",
      "<td><a class=\"mw-redirect\" href=\"/wiki/Publix_Super_Markets\" title=\"Publix Super Markets\">Publix Super Markets</a>\n",
      "</td>\n",
      "<td>Retail\n",
      "</td>\n",
      "<td style=\"text-align:center;\">48\n",
      "</td>\n",
      "<td style=\"text-align:center;\">230,000\n",
      "</td>\n",
      "<td><a href=\"/wiki/Winter_Haven,_Florida\" title=\"Winter Haven, Florida\">Winter Haven, Florida</a>\n",
      "</td></tr>\n",
      "<tr>\n",
      "<td>4\n",
      "</td>\n",
      "<td><a href=\"/wiki/Mars,_Incorporated\" title=\"Mars, Incorporated\">Mars, Incorporated</a>\n",
      "</td>\n",
      "<td>Food industry\n",
      "</td>\n",
      "<td style=\"text-align:center;\">45\n",
      "</td>\n",
      "<td style=\"text-align:center;\">140,000\n",
      "</td>\n",
      "<td><a href=\"/wiki/McLean,_Virginia\" title=\"McLean, Virginia\">McLean, Virginia</a>\n",
      "</td></tr>\n",
      "<tr>\n",
      "<td>5\n",
      "</td>\n",
      "<td><a href=\"/wiki/Pilot_Corporation\" title=\"Pilot Corporation\">Pilot Corporation</a>\n",
      "</td>\n",
      "<td>Petroleum industry and Retail\n",
      "</td>\n",
      "<td style=\"text-align:center;\">41.9\n",
      "</td>\n",
      "<td style=\"text-align:center;\">30,000\n",
      "</td>\n",
      "<td><a href=\"/wiki/Knoxville,_Tennessee\" title=\"Knoxville, Tennessee\">Knoxville, Tennessee</a>\n",
      "</td></tr>\n",
      "<tr>\n",
      "<td>6\n",
      "</td>\n",
      "<td><a href=\"/wiki/H-E-B\" title=\"H-E-B\">H-E-B</a>\n",
      "</td>\n",
      "<td>Retail\n",
      "</td>\n",
      "<td style=\"text-align:center;\">38.9\n",
      "</td>\n",
      "<td style=\"text-align:center;\">145,000\n",
      "</td>\n",
      "<td><a class=\"mw-redirect\" href=\"/wiki/San_Antonio,_Texas\" title=\"San Antonio, Texas\">San Antonio, Texas</a>\n",
      "</td></tr>\n",
      "<tr>\n",
      "<td>7\n",
      "</td>\n",
      "<td><a href=\"/wiki/Reyes_Holdings\" title=\"Reyes Holdings\">Reyes Holdings</a>\n",
      "</td>\n",
      "<td><a href=\"/wiki/Wholesaling\" title=\"Wholesaling\">Wholesaling</a>\n",
      "</td>\n",
      "<td style=\"text-align:center;\">35.3\n",
      "</td>\n",
      "<td style=\"text-align:center;\">33,000\n",
      "</td>\n",
      "<td><a href=\"/wiki/Rosemont,_Illinois\" title=\"Rosemont, Illinois\">Rosemont, Illinois</a>\n",
      "</td></tr>\n",
      "<tr>\n",
      "<td>8\n",
      "</td>\n",
      "<td><a href=\"/wiki/C%26S_Wholesale_Grocers\" title=\"C&amp;S Wholesale Grocers\">C&amp;S Wholesale Grocers</a>\n",
      "</td>\n",
      "<td>Wholesaling\n",
      "</td>\n",
      "<td style=\"text-align:center;\">33\n",
      "</td>\n",
      "<td style=\"text-align:center;\">14,000\n",
      "</td>\n",
      "<td><a href=\"/wiki/Keene,_New_Hampshire\" title=\"Keene, New Hampshire\">Keene, New Hampshire</a>\n",
      "</td></tr>\n",
      "<tr>\n",
      "<td>9\n",
      "</td>\n",
      "<td><a href=\"/wiki/Enterprise_Holdings\" title=\"Enterprise Holdings\">Enterprise Holdings</a>\n",
      "</td>\n",
      "<td><a href=\"/wiki/Car_rental\" title=\"Car rental\">Car rental</a>\n",
      "</td>\n",
      "<td style=\"text-align:center;\">30\n",
      "</td>\n",
      "<td style=\"text-align:center;\">80,000\n",
      "</td>\n",
      "<td><a href=\"/wiki/Clayton,_Missouri\" title=\"Clayton, Missouri\">Clayton, Missouri</a>\n",
      "</td></tr>\n",
      "<tr>\n",
      "<td>10\n",
      "</td>\n",
      "<td><a href=\"/wiki/Love%27s\" title=\"Love's\">Love's</a>\n",
      "</td>\n",
      "<td>Petroleum industry and Retail\n",
      "</td>\n",
      "<td style=\"text-align:center;\">25.5\n",
      "</td>\n",
      "<td style=\"text-align:center;\">38,000\n",
      "</td>\n",
      "<td><a class=\"mw-redirect\" href=\"/wiki/Oklahoma_City,_Oklahoma\" title=\"Oklahoma City, Oklahoma\">Oklahoma City, Oklahoma</a>\n",
      "</td></tr></tbody></table>\n"
     ]
    }
   ],
   "source": [
    "print(table)"
   ]
  },
  {
   "cell_type": "code",
   "execution_count": 17,
   "id": "a21d4d89-e826-4d4f-8d79-0ecb8347c6a5",
   "metadata": {},
   "outputs": [],
   "source": [
    "elements=table.find_all(\"th\")"
   ]
  },
  {
   "cell_type": "code",
   "execution_count": 18,
   "id": "5182d20d-ed5f-48a4-b757-05df8d1ebe28",
   "metadata": {},
   "outputs": [],
   "source": [
    "pieces=[]\n",
    "for element in elements:\n",
    "    pieces.append(element.text.strip())"
   ]
  },
  {
   "cell_type": "code",
   "execution_count": 19,
   "id": "a6481fde-402e-40de-b79e-3dcddf1604c4",
   "metadata": {},
   "outputs": [
    {
     "name": "stdout",
     "output_type": "stream",
     "text": [
      "['Rank', 'Name', 'Industry', 'Revenue (USD billions)', 'Employees', 'Headquarters']\n"
     ]
    }
   ],
   "source": [
    "print(pieces)"
   ]
  },
  {
   "cell_type": "code",
   "execution_count": 20,
   "id": "d4284ecc-9700-4783-ab98-e2ae97614e97",
   "metadata": {},
   "outputs": [],
   "source": [
    "import pandas as pd"
   ]
  },
  {
   "cell_type": "code",
   "execution_count": 28,
   "id": "ddc61195-b1e7-430e-bd35-7df4687f16c7",
   "metadata": {},
   "outputs": [],
   "source": [
    "dataf=pd.DataFrame(columns=pieces)"
   ]
  },
  {
   "cell_type": "code",
   "execution_count": 31,
   "id": "cb01a973-1e0f-4db4-bab7-4d95f6276a50",
   "metadata": {},
   "outputs": [
    {
     "data": {
      "text/html": [
       "<div>\n",
       "<style scoped>\n",
       "    .dataframe tbody tr th:only-of-type {\n",
       "        vertical-align: middle;\n",
       "    }\n",
       "\n",
       "    .dataframe tbody tr th {\n",
       "        vertical-align: top;\n",
       "    }\n",
       "\n",
       "    .dataframe thead th {\n",
       "        text-align: right;\n",
       "    }\n",
       "</style>\n",
       "<table border=\"1\" class=\"dataframe\">\n",
       "  <thead>\n",
       "    <tr style=\"text-align: right;\">\n",
       "      <th></th>\n",
       "      <th>Rank</th>\n",
       "      <th>Name</th>\n",
       "      <th>Industry</th>\n",
       "      <th>Revenue (USD billions)</th>\n",
       "      <th>Employees</th>\n",
       "      <th>Headquarters</th>\n",
       "    </tr>\n",
       "  </thead>\n",
       "  <tbody>\n",
       "  </tbody>\n",
       "</table>\n",
       "</div>"
      ],
      "text/plain": [
       "Empty DataFrame\n",
       "Columns: [Rank, Name, Industry, Revenue (USD billions), Employees, Headquarters]\n",
       "Index: []"
      ]
     },
     "execution_count": 31,
     "metadata": {},
     "output_type": "execute_result"
    }
   ],
   "source": [
    "dataf"
   ]
  },
  {
   "cell_type": "code",
   "execution_count": 50,
   "id": "b65e84c1-a60f-4755-8005-688144fdff31",
   "metadata": {},
   "outputs": [],
   "source": [
    "rows=table.find_all(\"tr\")[1:]"
   ]
  },
  {
   "cell_type": "code",
   "execution_count": 53,
   "id": "b2959008-41e1-4a4c-83c0-5734005d2b7b",
   "metadata": {},
   "outputs": [
    {
     "name": "stderr",
     "output_type": "stream",
     "text": [
      "C:\\Users\\ROY\\AppData\\Local\\Temp\\ipykernel_22760\\3394135103.py:5: FutureWarning: The frame.append method is deprecated and will be removed from pandas in a future version. Use pandas.concat instead.\n",
      "  df = df.append(pd.Series(arcades, index=df.columns), ignore_index=True)\n",
      "C:\\Users\\ROY\\AppData\\Local\\Temp\\ipykernel_22760\\3394135103.py:5: FutureWarning: The frame.append method is deprecated and will be removed from pandas in a future version. Use pandas.concat instead.\n",
      "  df = df.append(pd.Series(arcades, index=df.columns), ignore_index=True)\n",
      "C:\\Users\\ROY\\AppData\\Local\\Temp\\ipykernel_22760\\3394135103.py:5: FutureWarning: The frame.append method is deprecated and will be removed from pandas in a future version. Use pandas.concat instead.\n",
      "  df = df.append(pd.Series(arcades, index=df.columns), ignore_index=True)\n",
      "C:\\Users\\ROY\\AppData\\Local\\Temp\\ipykernel_22760\\3394135103.py:5: FutureWarning: The frame.append method is deprecated and will be removed from pandas in a future version. Use pandas.concat instead.\n",
      "  df = df.append(pd.Series(arcades, index=df.columns), ignore_index=True)\n",
      "C:\\Users\\ROY\\AppData\\Local\\Temp\\ipykernel_22760\\3394135103.py:5: FutureWarning: The frame.append method is deprecated and will be removed from pandas in a future version. Use pandas.concat instead.\n",
      "  df = df.append(pd.Series(arcades, index=df.columns), ignore_index=True)\n",
      "C:\\Users\\ROY\\AppData\\Local\\Temp\\ipykernel_22760\\3394135103.py:5: FutureWarning: The frame.append method is deprecated and will be removed from pandas in a future version. Use pandas.concat instead.\n",
      "  df = df.append(pd.Series(arcades, index=df.columns), ignore_index=True)\n",
      "C:\\Users\\ROY\\AppData\\Local\\Temp\\ipykernel_22760\\3394135103.py:5: FutureWarning: The frame.append method is deprecated and will be removed from pandas in a future version. Use pandas.concat instead.\n",
      "  df = df.append(pd.Series(arcades, index=df.columns), ignore_index=True)\n",
      "C:\\Users\\ROY\\AppData\\Local\\Temp\\ipykernel_22760\\3394135103.py:5: FutureWarning: The frame.append method is deprecated and will be removed from pandas in a future version. Use pandas.concat instead.\n",
      "  df = df.append(pd.Series(arcades, index=df.columns), ignore_index=True)\n",
      "C:\\Users\\ROY\\AppData\\Local\\Temp\\ipykernel_22760\\3394135103.py:5: FutureWarning: The frame.append method is deprecated and will be removed from pandas in a future version. Use pandas.concat instead.\n",
      "  df = df.append(pd.Series(arcades, index=df.columns), ignore_index=True)\n",
      "C:\\Users\\ROY\\AppData\\Local\\Temp\\ipykernel_22760\\3394135103.py:5: FutureWarning: The frame.append method is deprecated and will be removed from pandas in a future version. Use pandas.concat instead.\n",
      "  df = df.append(pd.Series(arcades, index=df.columns), ignore_index=True)\n"
     ]
    }
   ],
   "source": [
    "pieces=[]\n",
    "for row in rows :\n",
    "        variab=row.find_all(\"td\")\n",
    "        arcades=[piece.text.strip() for piece in variab]\n",
    "        df = df.append(pd.Series(arcades, index=df.columns), ignore_index=True)\n",
    "            \n",
    "            \n",
    "            \n",
    "        \n",
    "    \n",
    "        \n",
    "        \n",
    "        \n",
    "    "
   ]
  },
  {
   "cell_type": "code",
   "execution_count": 54,
   "id": "68835088-ac9d-480b-9d0a-a99c14dc2a66",
   "metadata": {},
   "outputs": [
    {
     "data": {
      "text/html": [
       "<div>\n",
       "<style scoped>\n",
       "    .dataframe tbody tr th:only-of-type {\n",
       "        vertical-align: middle;\n",
       "    }\n",
       "\n",
       "    .dataframe tbody tr th {\n",
       "        vertical-align: top;\n",
       "    }\n",
       "\n",
       "    .dataframe thead th {\n",
       "        text-align: right;\n",
       "    }\n",
       "</style>\n",
       "<table border=\"1\" class=\"dataframe\">\n",
       "  <thead>\n",
       "    <tr style=\"text-align: right;\">\n",
       "      <th></th>\n",
       "      <th>Rank</th>\n",
       "      <th>Name</th>\n",
       "      <th>Industry</th>\n",
       "      <th>Revenue (USD billions)</th>\n",
       "      <th>Employees</th>\n",
       "      <th>Headquarters</th>\n",
       "    </tr>\n",
       "  </thead>\n",
       "  <tbody>\n",
       "    <tr>\n",
       "      <th>0</th>\n",
       "      <td>1</td>\n",
       "      <td>Cargill</td>\n",
       "      <td>Food industry</td>\n",
       "      <td>165</td>\n",
       "      <td>155,000</td>\n",
       "      <td>Minnetonka, Minnesota</td>\n",
       "    </tr>\n",
       "    <tr>\n",
       "      <th>1</th>\n",
       "      <td>2</td>\n",
       "      <td>Koch Industries</td>\n",
       "      <td>Conglomerate</td>\n",
       "      <td>125</td>\n",
       "      <td>120,000</td>\n",
       "      <td>Wichita, Kansas</td>\n",
       "    </tr>\n",
       "    <tr>\n",
       "      <th>2</th>\n",
       "      <td>3</td>\n",
       "      <td>Publix Super Markets</td>\n",
       "      <td>Retail</td>\n",
       "      <td>48</td>\n",
       "      <td>230,000</td>\n",
       "      <td>Winter Haven, Florida</td>\n",
       "    </tr>\n",
       "    <tr>\n",
       "      <th>3</th>\n",
       "      <td>4</td>\n",
       "      <td>Mars, Incorporated</td>\n",
       "      <td>Food industry</td>\n",
       "      <td>45</td>\n",
       "      <td>140,000</td>\n",
       "      <td>McLean, Virginia</td>\n",
       "    </tr>\n",
       "    <tr>\n",
       "      <th>4</th>\n",
       "      <td>5</td>\n",
       "      <td>Pilot Corporation</td>\n",
       "      <td>Petroleum industry and Retail</td>\n",
       "      <td>41.9</td>\n",
       "      <td>30,000</td>\n",
       "      <td>Knoxville, Tennessee</td>\n",
       "    </tr>\n",
       "    <tr>\n",
       "      <th>5</th>\n",
       "      <td>6</td>\n",
       "      <td>H-E-B</td>\n",
       "      <td>Retail</td>\n",
       "      <td>38.9</td>\n",
       "      <td>145,000</td>\n",
       "      <td>San Antonio, Texas</td>\n",
       "    </tr>\n",
       "    <tr>\n",
       "      <th>6</th>\n",
       "      <td>7</td>\n",
       "      <td>Reyes Holdings</td>\n",
       "      <td>Wholesaling</td>\n",
       "      <td>35.3</td>\n",
       "      <td>33,000</td>\n",
       "      <td>Rosemont, Illinois</td>\n",
       "    </tr>\n",
       "    <tr>\n",
       "      <th>7</th>\n",
       "      <td>8</td>\n",
       "      <td>C&amp;S Wholesale Grocers</td>\n",
       "      <td>Wholesaling</td>\n",
       "      <td>33</td>\n",
       "      <td>14,000</td>\n",
       "      <td>Keene, New Hampshire</td>\n",
       "    </tr>\n",
       "    <tr>\n",
       "      <th>8</th>\n",
       "      <td>9</td>\n",
       "      <td>Enterprise Holdings</td>\n",
       "      <td>Car rental</td>\n",
       "      <td>30</td>\n",
       "      <td>80,000</td>\n",
       "      <td>Clayton, Missouri</td>\n",
       "    </tr>\n",
       "    <tr>\n",
       "      <th>9</th>\n",
       "      <td>10</td>\n",
       "      <td>Love's</td>\n",
       "      <td>Petroleum industry and Retail</td>\n",
       "      <td>25.5</td>\n",
       "      <td>38,000</td>\n",
       "      <td>Oklahoma City, Oklahoma</td>\n",
       "    </tr>\n",
       "  </tbody>\n",
       "</table>\n",
       "</div>"
      ],
      "text/plain": [
       "  Rank                   Name                       Industry  \\\n",
       "0    1                Cargill                  Food industry   \n",
       "1    2        Koch Industries                   Conglomerate   \n",
       "2    3   Publix Super Markets                         Retail   \n",
       "3    4     Mars, Incorporated                  Food industry   \n",
       "4    5      Pilot Corporation  Petroleum industry and Retail   \n",
       "5    6                  H-E-B                         Retail   \n",
       "6    7         Reyes Holdings                    Wholesaling   \n",
       "7    8  C&S Wholesale Grocers                    Wholesaling   \n",
       "8    9    Enterprise Holdings                     Car rental   \n",
       "9   10                 Love's  Petroleum industry and Retail   \n",
       "\n",
       "  Revenue (USD billions) Employees             Headquarters  \n",
       "0                    165   155,000    Minnetonka, Minnesota  \n",
       "1                    125   120,000          Wichita, Kansas  \n",
       "2                     48   230,000    Winter Haven, Florida  \n",
       "3                     45   140,000         McLean, Virginia  \n",
       "4                   41.9    30,000     Knoxville, Tennessee  \n",
       "5                   38.9   145,000       San Antonio, Texas  \n",
       "6                   35.3    33,000       Rosemont, Illinois  \n",
       "7                     33    14,000     Keene, New Hampshire  \n",
       "8                     30    80,000        Clayton, Missouri  \n",
       "9                   25.5    38,000  Oklahoma City, Oklahoma  "
      ]
     },
     "execution_count": 54,
     "metadata": {},
     "output_type": "execute_result"
    }
   ],
   "source": [
    "df"
   ]
  },
  {
   "cell_type": "code",
   "execution_count": 55,
   "id": "fa342cd3-30e2-41e1-97fa-585ace8c83e0",
   "metadata": {},
   "outputs": [],
   "source": [
    "df.to_excel(r\"Downloads\\test.xlsx\",index=False)"
   ]
  },
  {
   "cell_type": "code",
   "execution_count": null,
   "id": "621da61e-b2f6-4d37-ac1e-0f0c0a7af297",
   "metadata": {},
   "outputs": [],
   "source": []
  }
 ],
 "metadata": {
  "kernelspec": {
   "display_name": "Python 3 (ipykernel)",
   "language": "python",
   "name": "python3"
  },
  "language_info": {
   "codemirror_mode": {
    "name": "ipython",
    "version": 3
   },
   "file_extension": ".py",
   "mimetype": "text/x-python",
   "name": "python",
   "nbconvert_exporter": "python",
   "pygments_lexer": "ipython3",
   "version": "3.11.4"
  }
 },
 "nbformat": 4,
 "nbformat_minor": 5
}
